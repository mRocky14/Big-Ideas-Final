{
 "cells": [
  {
   "cell_type": "markdown",
   "metadata": {},
   "source": [
    "# Intro\n",
    "I decided to look at the safety factor in determining the best neighborhood in Pittsburgh.  This was done using a dataset that looked at the amount of arrests in each neighborhood.  I believe that the less arrests, the better environment it is in terms of safety, making it a good choice to live in.  To do this I was able to take the amount of arrests and compare them with the amount in each neighborhood.  The neighborhoods with the lowest arrest totals are the ones that are the most safe."
   ]
  },
  {
   "cell_type": "code",
   "execution_count": 4,
   "metadata": {},
   "outputs": [],
   "source": [
    "import pandas as pd\n",
    "import matplotlib.pyplot as plt"
   ]
  },
  {
   "cell_type": "code",
   "execution_count": 5,
   "metadata": {},
   "outputs": [
    {
     "data": {
      "text/html": [
       "<div>\n",
       "<style scoped>\n",
       "    .dataframe tbody tr th:only-of-type {\n",
       "        vertical-align: middle;\n",
       "    }\n",
       "\n",
       "    .dataframe tbody tr th {\n",
       "        vertical-align: top;\n",
       "    }\n",
       "\n",
       "    .dataframe thead th {\n",
       "        text-align: right;\n",
       "    }\n",
       "</style>\n",
       "<table border=\"1\" class=\"dataframe\">\n",
       "  <thead>\n",
       "    <tr style=\"text-align: right;\">\n",
       "      <th></th>\n",
       "      <th>_id</th>\n",
       "      <th>PK</th>\n",
       "      <th>CCR</th>\n",
       "      <th>AGE</th>\n",
       "      <th>GENDER</th>\n",
       "      <th>RACE</th>\n",
       "      <th>ARRESTTIME</th>\n",
       "      <th>ARRESTLOCATION</th>\n",
       "      <th>OFFENSES</th>\n",
       "      <th>INCIDENTLOCATION</th>\n",
       "      <th>INCIDENTNEIGHBORHOOD</th>\n",
       "      <th>INCIDENTZONE</th>\n",
       "      <th>INCIDENTTRACT</th>\n",
       "      <th>COUNCIL_DISTRICT</th>\n",
       "      <th>PUBLIC_WORKS_DIVISION</th>\n",
       "      <th>X</th>\n",
       "      <th>Y</th>\n",
       "    </tr>\n",
       "  </thead>\n",
       "  <tbody>\n",
       "    <tr>\n",
       "      <th>0</th>\n",
       "      <td>1</td>\n",
       "      <td>1975272</td>\n",
       "      <td>16158872</td>\n",
       "      <td>42.0</td>\n",
       "      <td>F</td>\n",
       "      <td>B</td>\n",
       "      <td>2016-08-24T12:20:00</td>\n",
       "      <td>4700 Block Centre AV Pittsburgh, PA 15213</td>\n",
       "      <td>3929 Retail Theft.</td>\n",
       "      <td>4700 Block Centre AV Pittsburgh, PA 15213</td>\n",
       "      <td>Bloomfield</td>\n",
       "      <td>5</td>\n",
       "      <td>804.0</td>\n",
       "      <td>8.0</td>\n",
       "      <td>2.0</td>\n",
       "      <td>-79.949277</td>\n",
       "      <td>40.452551</td>\n",
       "    </tr>\n",
       "    <tr>\n",
       "      <th>1</th>\n",
       "      <td>2</td>\n",
       "      <td>1974456</td>\n",
       "      <td>16144120</td>\n",
       "      <td>31.0</td>\n",
       "      <td>M</td>\n",
       "      <td>W</td>\n",
       "      <td>2016-08-03T14:55:00</td>\n",
       "      <td>4200 Block Steubenville PKE Pittsburgh, PA 15205</td>\n",
       "      <td>13(a)(16) Possession of Controlled Substance</td>\n",
       "      <td>4200 Block Steubenville PKE Pittsburgh, PA 15205</td>\n",
       "      <td>Outside City</td>\n",
       "      <td>OSC</td>\n",
       "      <td>5599.0</td>\n",
       "      <td>NaN</td>\n",
       "      <td>NaN</td>\n",
       "      <td>-80.088018</td>\n",
       "      <td>40.440136</td>\n",
       "    </tr>\n",
       "    <tr>\n",
       "      <th>2</th>\n",
       "      <td>3</td>\n",
       "      <td>1974466</td>\n",
       "      <td>16144165</td>\n",
       "      <td>63.0</td>\n",
       "      <td>F</td>\n",
       "      <td>B</td>\n",
       "      <td>2016-08-03T16:45:00</td>\n",
       "      <td>900 Block Freeport RD Fox Chapel, PA 15238</td>\n",
       "      <td>3929 Retail Theft.</td>\n",
       "      <td>900 Block Freeport RD Fox Chapel, PA 15238</td>\n",
       "      <td>Westwood</td>\n",
       "      <td>5</td>\n",
       "      <td>2811.0</td>\n",
       "      <td>9.0</td>\n",
       "      <td>2.0</td>\n",
       "      <td>-79.891803</td>\n",
       "      <td>40.486625</td>\n",
       "    </tr>\n",
       "    <tr>\n",
       "      <th>3</th>\n",
       "      <td>4</td>\n",
       "      <td>1974550</td>\n",
       "      <td>16145257</td>\n",
       "      <td>25.0</td>\n",
       "      <td>F</td>\n",
       "      <td>W</td>\n",
       "      <td>2016-08-05T02:36:00</td>\n",
       "      <td>Foreland ST &amp; Cedar AV Pittsburgh, PA 15212</td>\n",
       "      <td>5503 Disorderly Conduct. / 5505 Public Drunken...</td>\n",
       "      <td>Foreland ST &amp; Cedar AV Pittsburgh, PA 15212</td>\n",
       "      <td>East Allegheny</td>\n",
       "      <td>1</td>\n",
       "      <td>2304.0</td>\n",
       "      <td>1.0</td>\n",
       "      <td>1.0</td>\n",
       "      <td>-80.001939</td>\n",
       "      <td>40.454080</td>\n",
       "    </tr>\n",
       "    <tr>\n",
       "      <th>4</th>\n",
       "      <td>5</td>\n",
       "      <td>1974596</td>\n",
       "      <td>16145962</td>\n",
       "      <td>25.0</td>\n",
       "      <td>M</td>\n",
       "      <td>B</td>\n",
       "      <td>2016-08-06T02:00:00</td>\n",
       "      <td>900 Block Woodlow ST Pittsburgh, PA 15205</td>\n",
       "      <td>2702 Aggravated Assault. / 2705 Recklessy Enda...</td>\n",
       "      <td>900 Block Woodlow ST Pittsburgh, PA 15205</td>\n",
       "      <td>Crafton Heights</td>\n",
       "      <td>5</td>\n",
       "      <td>2814.0</td>\n",
       "      <td>2.0</td>\n",
       "      <td>5.0</td>\n",
       "      <td>-80.052204</td>\n",
       "      <td>40.445900</td>\n",
       "    </tr>\n",
       "  </tbody>\n",
       "</table>\n",
       "</div>"
      ],
      "text/plain": [
       "   _id       PK       CCR   AGE GENDER RACE           ARRESTTIME  \\\n",
       "0    1  1975272  16158872  42.0      F    B  2016-08-24T12:20:00   \n",
       "1    2  1974456  16144120  31.0      M    W  2016-08-03T14:55:00   \n",
       "2    3  1974466  16144165  63.0      F    B  2016-08-03T16:45:00   \n",
       "3    4  1974550  16145257  25.0      F    W  2016-08-05T02:36:00   \n",
       "4    5  1974596  16145962  25.0      M    B  2016-08-06T02:00:00   \n",
       "\n",
       "                                     ARRESTLOCATION  \\\n",
       "0         4700 Block Centre AV Pittsburgh, PA 15213   \n",
       "1  4200 Block Steubenville PKE Pittsburgh, PA 15205   \n",
       "2        900 Block Freeport RD Fox Chapel, PA 15238   \n",
       "3       Foreland ST & Cedar AV Pittsburgh, PA 15212   \n",
       "4         900 Block Woodlow ST Pittsburgh, PA 15205   \n",
       "\n",
       "                                            OFFENSES  \\\n",
       "0                                 3929 Retail Theft.   \n",
       "1       13(a)(16) Possession of Controlled Substance   \n",
       "2                                 3929 Retail Theft.   \n",
       "3  5503 Disorderly Conduct. / 5505 Public Drunken...   \n",
       "4  2702 Aggravated Assault. / 2705 Recklessy Enda...   \n",
       "\n",
       "                                   INCIDENTLOCATION INCIDENTNEIGHBORHOOD  \\\n",
       "0         4700 Block Centre AV Pittsburgh, PA 15213           Bloomfield   \n",
       "1  4200 Block Steubenville PKE Pittsburgh, PA 15205         Outside City   \n",
       "2        900 Block Freeport RD Fox Chapel, PA 15238             Westwood   \n",
       "3       Foreland ST & Cedar AV Pittsburgh, PA 15212       East Allegheny   \n",
       "4         900 Block Woodlow ST Pittsburgh, PA 15205      Crafton Heights   \n",
       "\n",
       "  INCIDENTZONE  INCIDENTTRACT  COUNCIL_DISTRICT  PUBLIC_WORKS_DIVISION  \\\n",
       "0            5          804.0               8.0                    2.0   \n",
       "1          OSC         5599.0               NaN                    NaN   \n",
       "2            5         2811.0               9.0                    2.0   \n",
       "3            1         2304.0               1.0                    1.0   \n",
       "4            5         2814.0               2.0                    5.0   \n",
       "\n",
       "           X          Y  \n",
       "0 -79.949277  40.452551  \n",
       "1 -80.088018  40.440136  \n",
       "2 -79.891803  40.486625  \n",
       "3 -80.001939  40.454080  \n",
       "4 -80.052204  40.445900  "
      ]
     },
     "execution_count": 5,
     "metadata": {},
     "output_type": "execute_result"
    }
   ],
   "source": [
    "data_set = pd.read_csv('https://data.wprdc.org/datastore/dump/e03a89dd-134a-4ee8-a2bd-62c40aeebc6f')\n",
    "\n",
    "data_set.head()"
   ]
  },
  {
   "cell_type": "code",
   "execution_count": 6,
   "metadata": {},
   "outputs": [
    {
     "data": {
      "text/html": [
       "<div>\n",
       "<style scoped>\n",
       "    .dataframe tbody tr th:only-of-type {\n",
       "        vertical-align: middle;\n",
       "    }\n",
       "\n",
       "    .dataframe tbody tr th {\n",
       "        vertical-align: top;\n",
       "    }\n",
       "\n",
       "    .dataframe thead th {\n",
       "        text-align: right;\n",
       "    }\n",
       "</style>\n",
       "<table border=\"1\" class=\"dataframe\">\n",
       "  <thead>\n",
       "    <tr style=\"text-align: right;\">\n",
       "      <th></th>\n",
       "      <th>INCIDENTNEIGHBORHOOD</th>\n",
       "    </tr>\n",
       "  </thead>\n",
       "  <tbody>\n",
       "    <tr>\n",
       "      <th>0</th>\n",
       "      <td>Bloomfield</td>\n",
       "    </tr>\n",
       "    <tr>\n",
       "      <th>1</th>\n",
       "      <td>Outside City</td>\n",
       "    </tr>\n",
       "    <tr>\n",
       "      <th>2</th>\n",
       "      <td>Westwood</td>\n",
       "    </tr>\n",
       "    <tr>\n",
       "      <th>3</th>\n",
       "      <td>East Allegheny</td>\n",
       "    </tr>\n",
       "    <tr>\n",
       "      <th>4</th>\n",
       "      <td>Crafton Heights</td>\n",
       "    </tr>\n",
       "  </tbody>\n",
       "</table>\n",
       "</div>"
      ],
      "text/plain": [
       "  INCIDENTNEIGHBORHOOD\n",
       "0           Bloomfield\n",
       "1         Outside City\n",
       "2             Westwood\n",
       "3       East Allegheny\n",
       "4      Crafton Heights"
      ]
     },
     "execution_count": 6,
     "metadata": {},
     "output_type": "execute_result"
    }
   ],
   "source": [
    "select_columns = data_set[['INCIDENTNEIGHBORHOOD']]\n",
    "select_columns.head()"
   ]
  },
  {
   "cell_type": "code",
   "execution_count": 11,
   "metadata": {},
   "outputs": [
    {
     "name": "stdout",
     "output_type": "stream",
     "text": [
      "Central Business District    4306\n",
      "South Side Flats             3410\n",
      "Carrick                      2317\n",
      "East Allegheny               2172\n",
      "Homewood South               2064\n",
      "                             ... \n",
      "Ridgemont                      37\n",
      "Central Northside              23\n",
      "Mt. Oliver Boro                18\n",
      "Troy Hill-Herrs Island          6\n",
      "Mt. Oliver Neighborhood         2\n",
      "Name: INCIDENTNEIGHBORHOOD, Length: 98, dtype: int64\n"
     ]
    }
   ],
   "source": [
    "neighborhood_counts = data_set['INCIDENTNEIGHBORHOOD'].value_counts()\n",
    "\n",
    "print(neighborhood_counts)"
   ]
  },
  {
   "cell_type": "code",
   "execution_count": 12,
   "metadata": {},
   "outputs": [
    {
     "name": "stdout",
     "output_type": "stream",
     "text": [
      "Central Business District    4306\n",
      "South Side Flats             3410\n",
      "Carrick                      2317\n",
      "East Allegheny               2172\n",
      "Homewood South               2064\n",
      "Homewood North               1941\n",
      "East Liberty                 1866\n",
      "Marshall-Shadeland           1502\n",
      "Bluff                        1471\n",
      "Mount Washington             1420\n",
      "Name: INCIDENTNEIGHBORHOOD, dtype: int64\n"
     ]
    }
   ],
   "source": [
    "neighborhood_counts = data_set['INCIDENTNEIGHBORHOOD'].value_counts()\n",
    "\n",
    "print(neighborhood_counts.head(10))"
   ]
  },
  {
   "cell_type": "markdown",
   "metadata": {},
   "source": [
    "Looked at the neighborhoods with the most arrests, just to see what I was working with."
   ]
  },
  {
   "cell_type": "code",
   "execution_count": 13,
   "metadata": {},
   "outputs": [
    {
     "name": "stdout",
     "output_type": "stream",
     "text": [
      "Mt. Oliver Neighborhood     2\n",
      "Troy Hill-Herrs Island      6\n",
      "Mt. Oliver Boro            18\n",
      "Central Northside          23\n",
      "Regent Square              37\n",
      "Ridgemont                  37\n",
      "New Homestead              39\n",
      "Swisshelm Park             42\n",
      "Chartiers City             46\n",
      "East Carnegie              48\n",
      "Name: INCIDENTNEIGHBORHOOD, dtype: int64\n"
     ]
    }
   ],
   "source": [
    "neighborhood_counts = data_set['INCIDENTNEIGHBORHOOD'].value_counts()\n",
    "bottom_10_neighborhoods = neighborhood_counts.nsmallest(10)\n",
    "print(bottom_10_neighborhoods)\n"
   ]
  },
  {
   "cell_type": "markdown",
   "metadata": {},
   "source": [
    "Organized the output by the 10 neighborhoods with the least arrests."
   ]
  },
  {
   "cell_type": "code",
   "execution_count": 15,
   "metadata": {},
   "outputs": [
    {
     "name": "stdout",
     "output_type": "stream",
     "text": [
      "Mt. Oliver Neighborhood          2\n",
      "Troy Hill-Herrs Island           6\n",
      "Mt. Oliver Boro                 18\n",
      "Central Northside               23\n",
      "Regent Square                   37\n",
      "Ridgemont                       37\n",
      "New Homestead                   39\n",
      "Swisshelm Park                  42\n",
      "Chartiers City                  46\n",
      "East Carnegie                   48\n",
      "St. Clair                       54\n",
      "Outside County                  56\n",
      "Outside State                   64\n",
      "Summer Hill                     75\n",
      "Oakwood                         80\n",
      "Golden Triangle/Civic Arena     83\n",
      "Hays                           118\n",
      "Fairywood                      122\n",
      "Mount Oliver                   123\n",
      "Windgap                        123\n",
      "Allegheny West                 127\n",
      "Arlington Heights              153\n",
      "Polish Hill                    162\n",
      "Glen Hazel                     164\n",
      "Friendship                     172\n",
      "Morningside                    185\n",
      "Duquesne Heights               187\n",
      "Upper Lawrenceville            188\n",
      "Esplen                         198\n",
      "Spring Garden                  216\n",
      "Stanton Heights                221\n",
      "Westwood                       222\n",
      "Lincoln Place                  224\n",
      "Bon Air                        263\n",
      "Lower Lawrenceville            266\n",
      "Point Breeze North             280\n",
      "West End                       281\n",
      "Squirrel Hill North            288\n",
      "Banksville                     288\n",
      "South Shore                    295\n",
      "Terrace Village                296\n",
      "Point Breeze                   299\n",
      "Arlington                      303\n",
      "California-Kirkbride           306\n",
      "Outside City                   310\n",
      "West Oakland                   316\n",
      "Overbrook                      326\n",
      "South Oakland                  348\n",
      "Upper Hill                     365\n",
      "Central Lawrenceville          425\n",
      "Name: INCIDENTNEIGHBORHOOD, dtype: int64\n"
     ]
    }
   ],
   "source": [
    "neighborhood_counts = data_set['INCIDENTNEIGHBORHOOD'].value_counts()\n",
    "bottom_50_neighborhoods = neighborhood_counts.nsmallest(50)\n",
    "print(bottom_50_neighborhoods)"
   ]
  },
  {
   "cell_type": "markdown",
   "metadata": {},
   "source": [
    "Noticed that none of the neighborhoods from the other metrics were represented in the bottom 10, so I increased it to the bottom 50 to look for when the first overlapping neighborhood."
   ]
  },
  {
   "cell_type": "code",
   "execution_count": 19,
   "metadata": {},
   "outputs": [
    {
     "name": "stdout",
     "output_type": "stream",
     "text": [
      "Hays                   118\n",
      "Fairywood              122\n",
      "Mount Oliver           123\n",
      "Windgap                123\n",
      "Allegheny West         127\n",
      "Arlington Heights      153\n",
      "Polish Hill            162\n",
      "Glen Hazel             164\n",
      "Friendship             172\n",
      "Morningside            185\n",
      "Duquesne Heights       187\n",
      "Upper Lawrenceville    188\n",
      "Esplen                 198\n",
      "Spring Garden          216\n",
      "Stanton Heights        221\n",
      "Name: INCIDENTNEIGHBORHOOD, dtype: int64\n"
     ]
    }
   ],
   "source": [
    "neighborhood_counts = data_set['INCIDENTNEIGHBORHOOD'].value_counts()\n",
    "neighborhoods_at_least_100 = neighborhood_counts[neighborhood_counts >= 100]\n",
    "bottom_15_neighborhoods = neighborhoods_at_least_100.nsmallest(15)\n",
    "print(bottom_15_neighborhoods)"
   ]
  },
  {
   "cell_type": "markdown",
   "metadata": {},
   "source": [
    "I narrowed down the lowest set by those with more than 100 arrests to try and account for population."
   ]
  },
  {
   "cell_type": "code",
   "execution_count": 29,
   "metadata": {},
   "outputs": [
    {
     "data": {
      "image/png": "[encoded data removed]",
      "text/plain": [
       "<Figure size 432x288 with 1 Axes>"
      ]
     },
     "metadata": {
      "needs_background": "light"
     },
     "output_type": "display_data"
    }
   ],
   "source": [
    "neighborhood_counts = data_set['INCIDENTNEIGHBORHOOD'].value_counts()\n",
    "neighborhoods_at_least_100 = neighborhood_counts[neighborhood_counts >= 100]\n",
    "bottom_10_neighborhoods = neighborhoods_at_least_100.nsmallest(10)\n",
    "bottom_10_neighborhoods.plot(kind='bar')\n",
    "plt.title('Bottom 10 Neighborhoods with at least 100 Occurrences')\n",
    "plt.xlabel('Neighborhood')\n",
    "plt.ylabel('Occurrences')\n",
    "plt.xticks(rotation=45)\n",
    "plt.tight_layout()\n",
    "plt.show()"
   ]
  },
  {
   "cell_type": "markdown",
   "metadata": {},
   "source": [
    "Charted the bottom 10 neighborhoods with arrests >100.  When doing this Hays in the best neighborhood."
   ]
  },
  {
   "cell_type": "code",
   "execution_count": 28,
   "metadata": {},
   "outputs": [
    {
     "data": {
      "image/png": "[encoded data removed]",
      "text/plain": [
       "<Figure size 432x288 with 1 Axes>"
      ]
     },
     "metadata": {
      "needs_background": "light"
     },
     "output_type": "display_data"
    }
   ],
   "source": [
    "specific_neighborhoods = ['Squirrel Hill South', 'Brookline', 'Carrick', 'Greenfield', 'Beechview', 'Brighton Heights', 'Squirrel Hill North', 'Shadyside', 'Mount Washington', 'Highland Park', 'North Oakland', 'Central Oakland', 'Bluff', 'South Side Flats'] \n",
    "\n",
    "specific_neighborhood_data = data_set[data_set['INCIDENTNEIGHBORHOOD'].isin(specific_neighborhoods)]\n",
    "\n",
    "neighborhood_counts = specific_neighborhood_data['INCIDENTNEIGHBORHOOD'].value_counts()\n",
    "\n",
    "neighborhood_counts.plot(kind='bar')\n",
    "plt.title('Occurrences in Specific Neighborhoods')\n",
    "plt.xlabel('Neighborhood')\n",
    "plt.ylabel('Occurrences')\n",
    "plt.xticks(rotation=70, ha='right')\n",
    "plt.tight_layout()\n",
    "plt.show()"
   ]
  },
  {
   "cell_type": "markdown",
   "metadata": {},
   "source": [
    "Looked at the specfic neighborhoods from the other metrics' top 15 in order to get a better estimate of the overall best neighborhood.  When done this way, Squirrel Hill North was the best."
   ]
  },
  {
   "cell_type": "markdown",
   "metadata": {},
   "source": [
    "# Conclusion\n",
    "In this dataset we are measuring the amount of arrests that happened in each neighborhood in Pittsburgh.  We first looked at the top 10 neighborhoods in terms of arrests, then the bottom 10.  Looking at the bottom ten we found that there was a couple of outliers, so we restricted it to the neighborhoods with over 100 arrests.  When looking at this we found that Hays was the best.  However, compared to the other metrics, this neighborhood as well as many others did not match up.  So, in order to better compare between metrics we took the top 10-15 neighborhoods from the other metrics and analyzed their amount of arrests.  This is where we came up with Squirrel Hill North being the best neighborhood in terms of arrests."
   ]
  },
  {
   "cell_type": "code",
   "execution_count": null,
   "metadata": {},
   "outputs": [],
   "source": []
  }
 ],
 "metadata": {
  "kernelspec": {
   "display_name": "Python 3",
   "language": "python",
   "name": "python3"
  },
  "language_info": {
   "codemirror_mode": {
    "name": "ipython",
    "version": 3
   },
   "file_extension": ".py",
   "mimetype": "text/x-python",
   "name": "python",
   "nbconvert_exporter": "python",
   "pygments_lexer": "ipython3",
   "version": "3.8.3"
  }
 },
 "nbformat": 4,
 "nbformat_minor": 4
}
